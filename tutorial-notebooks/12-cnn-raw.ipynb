{
 "cells": [
  {
   "cell_type": "code",
   "execution_count": 2,
   "metadata": {},
   "outputs": [
    {
     "name": "stdout",
     "output_type": "stream",
     "text": [
      "Extracting /tmp/data/train-images-idx3-ubyte.gz\n",
      "Extracting /tmp/data/train-labels-idx1-ubyte.gz\n",
      "Extracting /tmp/data/t10k-images-idx3-ubyte.gz\n",
      "Extracting /tmp/data/t10k-labels-idx1-ubyte.gz\n"
     ]
    }
   ],
   "source": [
    "import tensorflow as tf\n",
    "from tensorflow.examples.tutorials.mnist import input_data\n",
    "mnist = input_data.read_data_sets(\"/tmp/data/\", one_hot=True)"
   ]
  },
  {
   "cell_type": "code",
   "execution_count": 3,
   "metadata": {},
   "outputs": [],
   "source": [
    "# Hyper Parameters\n",
    "\n",
    "lr = 0.001\n",
    "num_steps = 500\n",
    "bs = 128\n",
    "display_step = 50\n",
    "\n",
    "# Network Parameters\n",
    "n_in = 784\n",
    "n_out = 10\n",
    "pkeep = 0.75 \n"
   ]
  },
  {
   "cell_type": "code",
   "execution_count": 4,
   "metadata": {},
   "outputs": [],
   "source": [
    "# Graph Input\n",
    "\n",
    "X = tf.placeholder(\"float\", [None, n_in])\n",
    "Y = tf.placeholder(\"float\", [None, n_out])\n",
    "keep_prob = tf.placeholder(\"float\") "
   ]
  },
  {
   "cell_type": "code",
   "execution_count": 5,
   "metadata": {},
   "outputs": [],
   "source": [
    "## Network Variables\n",
    "\n",
    "weights = {\n",
    "    # 5X5 convolution filter, 1 input channel(greyscale), 32 outputs channels\n",
    "    'wc1': tf.Variable(tf.truncated_normal([5,5,1,32], stddev=0.1)),\n",
    "    \n",
    "    # 5X5 convolution fileter, 32 inputs channels, 64 outputs channels\n",
    "    'wc2': tf.Variable(tf.truncated_normal([5,5,32,64], stddev=0.1)),\n",
    "    \n",
    "    # After maxpool layer(having stride = 2, and pooling_sz =2, thus reducing size 28*28*64->7*7*64)\n",
    "    'wd1': tf.Variable(tf.truncated_normal([7*7*64, 1024], stddev=0.1)),\n",
    "    \n",
    "    # 1024 inputs -> 10 outputs\n",
    "    'out': tf.Variable(tf.truncated_normal([1024, n_out], stddev=0.1))\n",
    "}\n",
    "\n",
    "biases = {\n",
    "    # 5X5 convolution filter, 1 input channel(greyscale), 32 outputs channels\n",
    "    'wc1': tf.Variable(tf.truncated_normal([32], stddev=0.1)),\n",
    "    \n",
    "    # After first maxpool layer(having stride = 2, and pooling_sz =2, thus reducing size 28*28*32->14*14*32)\n",
    "    \n",
    "    # 5X5 convolution fileter, 32 inputs channels, 64 outputs channels\n",
    "    'wc2': tf.Variable(tf.truncated_normal([64], stddev=0.1)),\n",
    "    \n",
    "    # After last maxpool layer(having stride = 2, and pooling_sz =2, thus reducing size 14*14*64->7*7*64)\n",
    "    'wd1': tf.Variable(tf.truncated_normal([1024], stddev=0.1)),\n",
    "    \n",
    "    # 1024 inputs -> 10 outputs\n",
    "    'out': tf.Variable(tf.truncated_normal([n_out], stddev=0.1))\n",
    "}"
   ]
  },
  {
   "cell_type": "code",
   "execution_count": 8,
   "metadata": {},
   "outputs": [],
   "source": [
    "# Create helper functions\n",
    "\n",
    "def conv2d(x, W, b, strides=1):\n",
    "    x = tf.nn.conv2d(x, W, strides=[1,strides,strides,1], padding='SAME') + b\n",
    "    return tf.nn.relu(x)\n",
    "\n",
    "def maxpool2d(x, k=2):\n",
    "    return tf.nn.max_pool(x, ksize=[1,k,k,1], strides=[1,k,k,1], padding='SAME')\n",
    "\n",
    "\n",
    "## define model\n",
    "def conv_net(x, weights, biases, dropout):\n",
    "    ## mnist data is 784 size vector, reshape it to 28*28\n",
    "    x = tf.reshape(x, shape=[-1,28,28,1])\n",
    "    \n",
    "    # conv layer 1\n",
    "    conv1 = conv2d(x, weights['wc1'], biases['wc1'])\n",
    "    # maxpool layer 1\n",
    "    conv1 = maxpool2d(conv1,k=2)\n",
    "    \n",
    "    #conv layer 2\n",
    "    conv2 = conv2d(conv1, weights['wc2'], biases['wc2'])\n",
    "    # maxpool layer 2\n",
    "    conv2 = maxpool2d(conv2, k=2)\n",
    "    \n",
    "    \n",
    "    ## Fully connected layer\n",
    "    ## Reshape conv2 output to fit fully connected layer input\n",
    "    fc1 = tf.reshape(conv2, [-1,7*7*64])\n",
    "    fc1 = tf.matmul(fc1, weights['wd1']) + biases['wd1']\n",
    "    fc1 = tf.nn.relu(fc1)\n",
    "    \n",
    "    ## Apply Dropout\n",
    "    fc1 = tf.nn.dropout(fc1, dropout)\n",
    "    \n",
    "    ## Output layer 1024->10\n",
    "    out = tf.matmul(fc1, weights['out']) + biases['out']\n",
    "    return out\n",
    "    "
   ]
  },
  {
   "cell_type": "code",
   "execution_count": 9,
   "metadata": {},
   "outputs": [
    {
     "name": "stdout",
     "output_type": "stream",
     "text": [
      "WARNING:tensorflow:From <ipython-input-9-82766787e59c>:9: softmax_cross_entropy_with_logits (from tensorflow.python.ops.nn_ops) is deprecated and will be removed in a future version.\n",
      "Instructions for updating:\n",
      "\n",
      "Future major versions of TensorFlow will allow gradients to flow\n",
      "into the labels input on backprop by default.\n",
      "\n",
      "See `tf.nn.softmax_cross_entropy_with_logits_v2`.\n",
      "\n"
     ]
    }
   ],
   "source": [
    "## Construct model\n",
    "\n",
    "logits = conv_net(X, weights, biases, keep_prob)\n",
    "preds = tf.nn.softmax(logits)\n",
    "\n",
    "\n",
    "## Define loss and optimizer\n",
    "\n",
    "loss_op = tf.reduce_mean(tf.nn.softmax_cross_entropy_with_logits(logits=logits, labels=Y))\n",
    "optimizer = tf.train.AdamOptimizer(learning_rate=lr)\n",
    "train_op = optimizer.minimize(loss_op)\n",
    "\n",
    "\n",
    "## Evaluate model\n",
    "correct_pred = tf.equal(tf.argmax(preds, 1), tf.argmax(Y,1))\n",
    "accuracy = tf.reduce_mean(tf.cast(correct_pred, tf.float32))\n",
    "\n",
    "## Initialize the variables\n",
    "init = tf.global_variables_initializer()"
   ]
  },
  {
   "cell_type": "code",
   "execution_count": null,
   "metadata": {},
   "outputs": [
    {
     "name": "stdout",
     "output_type": "stream",
     "text": [
      "Step:  50 Minibatch Loss:  0.28770107 Minibatch Accuracy:  0.890625\n",
      "Step:  100 Minibatch Loss:  0.2367497 Minibatch Accuracy:  0.90625\n",
      "Step:  150 Minibatch Loss:  0.061927225 Minibatch Accuracy:  0.9765625\n",
      "Step:  200 Minibatch Loss:  0.07050916 Minibatch Accuracy:  0.9765625\n",
      "Step:  250 Minibatch Loss:  0.069633625 Minibatch Accuracy:  0.984375\n",
      "Step:  300 Minibatch Loss:  0.03143268 Minibatch Accuracy:  0.9921875\n",
      "Step:  350 Minibatch Loss:  0.029452058 Minibatch Accuracy:  0.984375\n",
      "Step:  400 Minibatch Loss:  0.014967954 Minibatch Accuracy:  1.0\n",
      "Step:  450 Minibatch Loss:  0.0130343605 Minibatch Accuracy:  1.0\n",
      "Step:  500 Minibatch Loss:  0.13267124 Minibatch Accuracy:  0.953125\n",
      "training done\n"
     ]
    }
   ],
   "source": [
    "## Training\n",
    "\n",
    "with tf.Session() as sess:\n",
    "    sess.run(init)\n",
    "    \n",
    "    for step in range(1, num_steps+1):\n",
    "        batch_x, batch_y = mnist.train.next_batch(bs)\n",
    "        \n",
    "        sess.run(train_op, feed_dict={X:batch_x, Y:batch_y, keep_prob:pkeep})\n",
    "        \n",
    "        if(step%display_step==0):\n",
    "            loss, acc = sess.run([loss_op, accuracy], feed_dict={X:batch_x, Y:batch_y, keep_prob:pkeep })\n",
    "            print(\"Step: \", step, \"Minibatch Loss: \", loss, \"Minibatch Accuracy: \", acc)\n",
    "            \n",
    "    print(\"training done\")\n",
    "    \n",
    "    ## Evaluation of our model\n",
    "    test_acc = sess.run(accuracy, feed_dict={X:mnist.test.images, Y:mnist.test.labels, keep_prob:1.0})\n"
   ]
  },
  {
   "cell_type": "code",
   "execution_count": null,
   "metadata": {},
   "outputs": [],
   "source": []
  }
 ],
 "metadata": {
  "kernelspec": {
   "display_name": "Python 3",
   "language": "python",
   "name": "python3"
  },
  "language_info": {
   "codemirror_mode": {
    "name": "ipython",
    "version": 3
   },
   "file_extension": ".py",
   "mimetype": "text/x-python",
   "name": "python",
   "nbconvert_exporter": "python",
   "pygments_lexer": "ipython3",
   "version": "3.6.7"
  }
 },
 "nbformat": 4,
 "nbformat_minor": 2
}
