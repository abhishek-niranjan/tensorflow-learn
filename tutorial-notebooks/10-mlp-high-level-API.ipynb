{
 "cells": [
  {
   "cell_type": "code",
   "execution_count": 1,
   "metadata": {},
   "outputs": [],
   "source": [
    "from tensorflow.examples.tutorials.mnist import input_data\n",
    "import tensorflow as tf\n",
    "import seaborn as sns\n",
    "import numpy as np"
   ]
  },
  {
   "cell_type": "code",
   "execution_count": 3,
   "metadata": {},
   "outputs": [
    {
     "name": "stdout",
     "output_type": "stream",
     "text": [
      "Extracting /tmp/data/train-images-idx3-ubyte.gz\n",
      "Extracting /tmp/data/train-labels-idx1-ubyte.gz\n",
      "Extracting /tmp/data/t10k-images-idx3-ubyte.gz\n",
      "Extracting /tmp/data/t10k-labels-idx1-ubyte.gz\n"
     ]
    }
   ],
   "source": [
    "mnist = input_data.read_data_sets(\"/tmp/data/\", one_hot=False)\n"
   ]
  },
  {
   "cell_type": "code",
   "execution_count": 19,
   "metadata": {},
   "outputs": [],
   "source": [
    "# Hyper Parameters\n",
    "lr = 0.01\n",
    "bs = 128\n",
    "num_steps=2000\n",
    "display_steps = 100\n",
    "\n",
    "# Network Parameters\n",
    "n_in = 784\n",
    "n_h1 = 256\n",
    "n_h2 = 256\n",
    "n_out = 10"
   ]
  },
  {
   "cell_type": "code",
   "execution_count": 20,
   "metadata": {},
   "outputs": [],
   "source": [
    "# NO NEED TO DEFINE PLACEHOLDERS\n",
    "# TENSORFLOW HIGH LEVEL API HANDLES EVERYTHING ABOUT FEEDING INPUTS \n",
    "\n",
    "## DEFINE AN INPUT FUNCTION FOR THE ESTIMATOR API\n",
    "\n",
    "input_fn = tf.estimator.inputs.numpy_input_fn(x={'images':mnist.train.images}, y=mnist.train.labels,\n",
    "                                             batch_size=bs, num_epochs=None, shuffle=True)"
   ]
  },
  {
   "cell_type": "code",
   "execution_count": 21,
   "metadata": {},
   "outputs": [],
   "source": [
    "## define network\n",
    "\n",
    "def mlp_high(x_dict):\n",
    "    # TF Estimator input is a dict\n",
    "    x = x_dict['images']\n",
    "    \n",
    "    # TF Layers has many layers implemented. Dense layer is the same as fully connected layer\n",
    "    layer1 = tf.layers.dense(x, n_h1, activation=tf.nn.relu)\n",
    "    layer2 = tf.layers.dense(layer1, n_h2, activation=tf.nn.relu)\n",
    "    \n",
    "    out = tf.layers.dense(layer2, n_out)\n",
    "    \n",
    "    return out\n",
    "    "
   ]
  },
  {
   "cell_type": "code",
   "execution_count": 22,
   "metadata": {},
   "outputs": [],
   "source": [
    "## Define a model_fn for the TF Estimator\n",
    "\n",
    "def model_fn(features, labels, mode):\n",
    "    \n",
    "    # Call our neural network\n",
    "    logits = mlp_high(features)\n",
    "    \n",
    "    # Predictions \n",
    "    pred_classes = tf.argmax(logits, axis=1)\n",
    "    pred_probas = tf.nn.softmax(logits)\n",
    "    \n",
    "    # if mode == prediction, return \n",
    "    if mode==tf.estimator.ModeKeys.PREDICT:\n",
    "        return tf.estimator.EstimatorSpec(mode, predictions=pred_classes)\n",
    "    \n",
    "    # define loss and optimizer\n",
    "    loss_op = tf.reduce_mean(tf.nn.sparse_softmax_cross_entropy_with_logits(logits=logits, \n",
    "                                                                        labels=tf.cast(labels, dtype=tf.int32)))\n",
    "    optimizer = tf.train.GradientDescentOptimizer(learning_rate=lr)\n",
    "    train_op = optimizer.minimize(loss_op, global_step=tf.train.get_global_step())\n",
    "    \n",
    "    \n",
    "    # Evalutate the accuracy of the model\n",
    "    acc_op = tf.metrics.accuracy(labels=labels, predictions=pred_classes)\n",
    "    \n",
    "    \n",
    "    ## TF Estimators requires to return a EstimatorSpec, that specify\n",
    "    ## the different ops for training, evaluating\n",
    "    \n",
    "    estim_specs = tf.estimator.EstimatorSpec(\n",
    "        mode=mode,\n",
    "        predictions=pred_classes,\n",
    "        loss=loss_op,\n",
    "        train_op=train_op,\n",
    "        eval_metric_ops={'accuracy': acc_op})\n",
    "    \n",
    "    return estim_specs"
   ]
  },
  {
   "cell_type": "code",
   "execution_count": 23,
   "metadata": {},
   "outputs": [
    {
     "name": "stdout",
     "output_type": "stream",
     "text": [
      "INFO:tensorflow:Using default config.\n",
      "WARNING:tensorflow:Using temporary folder as model directory: /tmp/tmp619j014z\n",
      "INFO:tensorflow:Using config: {'_model_dir': '/tmp/tmp619j014z', '_tf_random_seed': None, '_save_summary_steps': 100, '_save_checkpoints_steps': None, '_save_checkpoints_secs': 600, '_session_config': allow_soft_placement: true\n",
      "graph_options {\n",
      "  rewrite_options {\n",
      "    meta_optimizer_iterations: ONE\n",
      "  }\n",
      "}\n",
      ", '_keep_checkpoint_max': 5, '_keep_checkpoint_every_n_hours': 10000, '_log_step_count_steps': 100, '_train_distribute': None, '_device_fn': None, '_protocol': None, '_eval_distribute': None, '_experimental_distribute': None, '_service': None, '_cluster_spec': <tensorflow.python.training.server_lib.ClusterSpec object at 0x7f26bd819ba8>, '_task_type': 'worker', '_task_id': 0, '_global_id_in_cluster': 0, '_master': '', '_evaluation_master': '', '_is_chief': True, '_num_ps_replicas': 0, '_num_worker_replicas': 1}\n"
     ]
    }
   ],
   "source": [
    "## Build the estimator\n",
    "model = tf.estimator.Estimator(model_fn)\n"
   ]
  },
  {
   "cell_type": "code",
   "execution_count": 24,
   "metadata": {},
   "outputs": [
    {
     "name": "stdout",
     "output_type": "stream",
     "text": [
      "INFO:tensorflow:Calling model_fn.\n",
      "INFO:tensorflow:Done calling model_fn.\n",
      "INFO:tensorflow:Create CheckpointSaverHook.\n",
      "INFO:tensorflow:Graph was finalized.\n",
      "INFO:tensorflow:Running local_init_op.\n",
      "INFO:tensorflow:Done running local_init_op.\n",
      "INFO:tensorflow:Saving checkpoints for 0 into /tmp/tmp619j014z/model.ckpt.\n",
      "INFO:tensorflow:loss = 2.331015, step = 1\n",
      "INFO:tensorflow:global_step/sec: 106.186\n",
      "INFO:tensorflow:loss = 1.7922153, step = 101 (0.943 sec)\n",
      "INFO:tensorflow:global_step/sec: 120.143\n",
      "INFO:tensorflow:loss = 1.1786933, step = 201 (0.832 sec)\n",
      "INFO:tensorflow:global_step/sec: 106.928\n",
      "INFO:tensorflow:loss = 0.7930119, step = 301 (0.935 sec)\n",
      "INFO:tensorflow:global_step/sec: 120.214\n",
      "INFO:tensorflow:loss = 0.61279184, step = 401 (0.834 sec)\n",
      "INFO:tensorflow:global_step/sec: 94.3153\n",
      "INFO:tensorflow:loss = 0.5714313, step = 501 (1.058 sec)\n",
      "INFO:tensorflow:global_step/sec: 103.111\n",
      "INFO:tensorflow:loss = 0.46729916, step = 601 (0.972 sec)\n",
      "INFO:tensorflow:global_step/sec: 79.3585\n",
      "INFO:tensorflow:loss = 0.4948274, step = 701 (1.259 sec)\n",
      "INFO:tensorflow:global_step/sec: 79.2894\n",
      "INFO:tensorflow:loss = 0.4055087, step = 801 (1.261 sec)\n",
      "INFO:tensorflow:global_step/sec: 92.6977\n",
      "INFO:tensorflow:loss = 0.35256088, step = 901 (1.078 sec)\n",
      "INFO:tensorflow:global_step/sec: 101.773\n",
      "INFO:tensorflow:loss = 0.31573254, step = 1001 (0.983 sec)\n",
      "INFO:tensorflow:global_step/sec: 117.103\n",
      "INFO:tensorflow:loss = 0.43982273, step = 1101 (0.854 sec)\n",
      "INFO:tensorflow:global_step/sec: 115.932\n",
      "INFO:tensorflow:loss = 0.2573785, step = 1201 (0.864 sec)\n",
      "INFO:tensorflow:global_step/sec: 106.72\n",
      "INFO:tensorflow:loss = 0.33916616, step = 1301 (0.936 sec)\n",
      "INFO:tensorflow:global_step/sec: 115.795\n",
      "INFO:tensorflow:loss = 0.3184824, step = 1401 (0.863 sec)\n",
      "INFO:tensorflow:global_step/sec: 115.039\n",
      "INFO:tensorflow:loss = 0.22142398, step = 1501 (0.869 sec)\n",
      "INFO:tensorflow:global_step/sec: 118.335\n",
      "INFO:tensorflow:loss = 0.39806607, step = 1601 (0.845 sec)\n",
      "INFO:tensorflow:global_step/sec: 104.212\n",
      "INFO:tensorflow:loss = 0.30829993, step = 1701 (0.960 sec)\n",
      "INFO:tensorflow:global_step/sec: 116.032\n",
      "INFO:tensorflow:loss = 0.34520698, step = 1801 (0.862 sec)\n",
      "INFO:tensorflow:global_step/sec: 106.684\n",
      "INFO:tensorflow:loss = 0.35233647, step = 1901 (0.937 sec)\n",
      "INFO:tensorflow:Saving checkpoints for 2000 into /tmp/tmp619j014z/model.ckpt.\n",
      "INFO:tensorflow:Loss for final step: 0.34100392.\n"
     ]
    },
    {
     "data": {
      "text/plain": [
       "<tensorflow.python.estimator.estimator.Estimator at 0x7f26bd8197f0>"
      ]
     },
     "execution_count": 24,
     "metadata": {},
     "output_type": "execute_result"
    }
   ],
   "source": [
    "# Train the model\n",
    "model.train(input_fn, steps=num_steps)   #### model.train means train mode"
   ]
  },
  {
   "cell_type": "code",
   "execution_count": 25,
   "metadata": {},
   "outputs": [
    {
     "name": "stdout",
     "output_type": "stream",
     "text": [
      "INFO:tensorflow:Calling model_fn.\n",
      "INFO:tensorflow:Done calling model_fn.\n",
      "INFO:tensorflow:Starting evaluation at 2018-12-19-11:15:45\n",
      "INFO:tensorflow:Graph was finalized.\n",
      "INFO:tensorflow:Restoring parameters from /tmp/tmp619j014z/model.ckpt-2000\n",
      "INFO:tensorflow:Running local_init_op.\n",
      "INFO:tensorflow:Done running local_init_op.\n",
      "INFO:tensorflow:Finished evaluation at 2018-12-19-11:15:45\n",
      "INFO:tensorflow:Saving dict for global step 2000: accuracy = 0.917, global_step = 2000, loss = 0.29462704\n",
      "INFO:tensorflow:Saving 'checkpoint_path' summary for global step 2000: /tmp/tmp619j014z/model.ckpt-2000\n"
     ]
    },
    {
     "data": {
      "text/plain": [
       "{'accuracy': 0.917, 'loss': 0.29462704, 'global_step': 2000}"
      ]
     },
     "execution_count": 25,
     "metadata": {},
     "output_type": "execute_result"
    }
   ],
   "source": [
    "## Evaluate the model\n",
    "## Define the input function for evaluation\n",
    "\n",
    "input_fn = tf.estimator.inputs.numpy_input_fn(x={'images':mnist.test.images}, y=mnist.test.labels,\n",
    "                                             batch_size=bs, shuffle=False)\n",
    "model.evaluate(input_fn)"
   ]
  },
  {
   "cell_type": "code",
   "execution_count": null,
   "metadata": {},
   "outputs": [],
   "source": []
  }
 ],
 "metadata": {
  "kernelspec": {
   "display_name": "Python 3",
   "language": "python",
   "name": "python3"
  },
  "language_info": {
   "codemirror_mode": {
    "name": "ipython",
    "version": 3
   },
   "file_extension": ".py",
   "mimetype": "text/x-python",
   "name": "python",
   "nbconvert_exporter": "python",
   "pygments_lexer": "ipython3",
   "version": "3.6.7"
  }
 },
 "nbformat": 4,
 "nbformat_minor": 2
}
