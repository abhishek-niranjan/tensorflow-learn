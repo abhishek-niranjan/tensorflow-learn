{
 "cells": [
  {
   "cell_type": "markdown",
   "metadata": {},
   "source": [
    "## Word Embeddings tutorial\n",
    "___\n",
    "Link tensorflow.org's official vector representation of words tutorial to understand the data format"
   ]
  },
  {
   "cell_type": "code",
   "execution_count": 1,
   "metadata": {},
   "outputs": [],
   "source": [
    "import collections\n",
    "import os\n",
    "import random\n",
    "import urllib\n",
    "import zipfile\n",
    "import numpy as np\n",
    "import tensorflow as tf"
   ]
  },
  {
   "cell_type": "code",
   "execution_count": 29,
   "metadata": {},
   "outputs": [],
   "source": [
    "## Hyperparameters\n",
    "\n",
    "lr = 0.1 \n",
    "bs = 128\n",
    "num_steps = 300000\n",
    "display_step = 10000\n",
    "eval_step = 100000\n",
    "\n",
    "# Evaluation words \n",
    "eval_words = [b'five',b'of',b'king',b'prince',b'going',b'hardware',b'electronics',b'american',b'britain']\n",
    "\n",
    "# word2vec parameters\n",
    "embedding_sz = 200\n",
    "max_vocab_sz = 50000\n",
    "min_occrncs = 10\n",
    "skip_window = 3  # how mamy words on the left and on the right(context of total 7 words)\n",
    "num_skips = 2 # How many times to reuse an input to generate a label\n",
    "neg_samples = 64 # Number of negative examples to sample"
   ]
  },
  {
   "cell_type": "code",
   "execution_count": 3,
   "metadata": {},
   "outputs": [],
   "source": [
    "# Download a small chunk of wikipedia articles \n",
    "\n",
    "url = 'http://mattmahoney.net/dc/text8.zip'\n",
    "data_path = 'text8.zip'\n",
    "\n",
    "\"\"\"\n",
    "if not os.path.exists(data_path):\n",
    "    print(\"Downloading data.....\")\n",
    "    filename = urllib.request.urlretrieve(url, data_path)\n",
    "    print(\"Done!\")\n",
    "\"\"\"\n",
    "\n",
    "with zipfile.ZipFile(data_path) as f:\n",
    "    text_words = f.read(f.namelist()[0]).lower().split()"
   ]
  },
  {
   "cell_type": "code",
   "execution_count": 4,
   "metadata": {},
   "outputs": [
    {
     "name": "stdout",
     "output_type": "stream",
     "text": [
      "Words count:  17005207\n",
      "Unique words:  253854\n",
      "Vocabulary size:  47135\n",
      "Most Common Words:  [('UNK', 444176), (b'the', 1061396), (b'of', 593677), (b'and', 416629), (b'one', 411764), (b'in', 372201), (b'a', 325873), (b'to', 316376), (b'zero', 264975), (b'nine', 250430)]\n"
     ]
    }
   ],
   "source": [
    "# Build the dictionary and replace rare words with UNK token\n",
    "count = [('UNK', -1)]\n",
    "\n",
    "# Retrieve the most common words\n",
    "count.extend(collections.Counter(text_words).most_common(max_vocab_sz-1))\n",
    "\n",
    "# Remove samples with less than min_occrncsabs \n",
    "for i in range(len(count) -1, -1, -1):\n",
    "    if(count[i][1] < min_occrncs):\n",
    "        count.pop(i)\n",
    "    else:\n",
    "        break  ## Why break? not continue? - collection is ordered in decreasing occurences\n",
    "\n",
    "# Compute the vocabulary size\n",
    "vocab_sz = len(count)\n",
    "\n",
    "\n",
    "# Assign an id to each word\n",
    "word2id = dict()\n",
    "\n",
    "for i, (word, _) in enumerate(count):\n",
    "    word2id[word] = i\n",
    "\n",
    "    \n",
    "data = list()\n",
    "unk_count = 0\n",
    "for word in text_words:\n",
    "    # Retrieve a word_id or assign it index 0 ('UNK') if not in dictionary\n",
    "    index = word2id.get(word, 0)\n",
    "    if(index==0):\n",
    "        unk_count += 1\n",
    "    data.append(index)\n",
    "\n",
    "count[0] = ('UNK',unk_count)\n",
    "\n",
    "id2word = dict(zip(word2id.values(), word2id.keys()))\n",
    "\n",
    "print(\"Words count: \", len(text_words))\n",
    "print(\"Unique words: \", len(set(text_words)))\n",
    "print(\"Vocabulary size: \",vocab_sz)\n",
    "print(\"Most Common Words: \", count[:10])\n"
   ]
  },
  {
   "cell_type": "code",
   "execution_count": 5,
   "metadata": {},
   "outputs": [
    {
     "name": "stdout",
     "output_type": "stream",
     "text": [
      "[5234, 3081, 12, 6, 195, 2, 3134, 46, 59, 156]\n",
      "[b'anarchism', b'originated', b'as', b'a', b'term', b'of', b'abuse', b'first', b'used', b'against']\n"
     ]
    }
   ],
   "source": [
    "print(data[:10])\n",
    "print(text_words[:10])\n"
   ]
  },
  {
   "cell_type": "code",
   "execution_count": 6,
   "metadata": {},
   "outputs": [],
   "source": [
    "data_index = 0\n",
    "\n",
    "# Generate training batch for the skip-gram model\n",
    "def next_batch(bs, num_skips, skip_window):\n",
    "    global data_index\n",
    "    assert bs%num_skips == 0\n",
    "    assert num_skips <= 2*skip_window\n",
    "    \n",
    "    batch = np.ndarray(shape=(bs), dtype=np.int32)\n",
    "    labels = np.ndarray(shape=(bs,1), dtype=np.int32)\n",
    "    \n",
    "    span = 2*skip_window + 1 # (left3, left2, left1, current, right1, right2, right3) in the context\n",
    "    buffer = collections.deque(maxlen=span)\n",
    "    \n",
    "    if data_index + span > len(data):\n",
    "        data_index=0\n",
    "    \n",
    "    buffer.extend(data[data_index:data_index+span])\n",
    "    data_index += span\n",
    "    \n",
    "    for i in range(bs//num_skips):\n",
    "        context_words = [w for w in range(span) if w != skip_window]\n",
    "        words_2_use = random.sample(context_words, num_skips)\n",
    "        \n",
    "        for j, context_word in enumerate(words_2_use):\n",
    "            batch[i*num_skips + j] = buffer[skip_window]\n",
    "            labels[i*num_skips + j, 0] = buffer[context_word]\n",
    "            \n",
    "        if data_index == len(data):\n",
    "            buffer.extend(data[0:span])\n",
    "            data_index = span\n",
    "        else:\n",
    "            buffer.append(data[data[data_index]])\n",
    "            data_index += 1\n",
    "    data_index = (data_index + len(data) - span)%len(data)\n",
    "    return batch, labels"
   ]
  },
  {
   "cell_type": "code",
   "execution_count": 42,
   "metadata": {},
   "outputs": [
    {
     "name": "stdout",
     "output_type": "stream",
     "text": [
      "Tensor(\"Mean_5:0\", shape=(), dtype=float32)\n",
      "name: \"GradientDescent_4\"\n",
      "op: \"NoOp\"\n",
      "input: \"^GradientDescent_4/update_Variable_21/ScatterSub\"\n",
      "input: \"^GradientDescent_4/update_Variable_22/ScatterSub\"\n",
      "input: \"^GradientDescent_4/update_Variable_23/ScatterSub\"\n",
      "\n"
     ]
    }
   ],
   "source": [
    "## Define the architecture\n",
    "\n",
    "X = tf.placeholder(tf.int32, shape=[None])\n",
    "Y = tf.placeholder(tf.int32, shape=[None, 1])\n",
    "\n",
    "# Embedding matrix\n",
    "embedding = tf.Variable(tf.random_normal([vocab_sz, embedding_sz]))\n",
    "\n",
    "\n",
    "# Embedding lookup\n",
    "X_embed = tf.nn.embedding_lookup(embedding, X)\n",
    "\n",
    "# Construct Variables for the NCE loss\n",
    "nce_weights = tf.Variable(tf.random_normal([vocab_sz,embedding_sz]))\n",
    "nce_biases = tf.Variable(tf.zeros([vocab_sz]))\n",
    "\n",
    "# Compute the average NCE Loss for the batch\n",
    "loss = tf.reduce_mean(tf.nn.nce_loss(weights=nce_weights, \n",
    "                                     biases=nce_biases,\n",
    "                                     labels=Y,\n",
    "                                     inputs=X_embed,\n",
    "                                     num_sampled=neg_samples,\n",
    "                                     num_classes=vocab_sz))\n",
    "\n",
    "print(loss)\n",
    "# Define the optimizer\n",
    "optimizer = tf.train.GradientDescentOptimizer(learning_rate=lr)\n",
    "train_op = optimizer.minimize(loss)\n",
    "print(train_op)\n",
    "\n",
    "\n",
    "# Evalutation\n",
    "# Compute the cosine similarity between the input data embedding and every embedding vectors\n",
    "X_embed_norm = X_embed/tf.sqrt(tf.reduce_sum(tf.square(X_embed)))\n",
    "embed_norm = embedding/tf.sqrt(tf.reduce_sum(tf.square(embedding), 1, keepdims=True))\n",
    "cosine_sim_op = tf.matmul(X_embed_norm, embed_norm, transpose_b=True)\n"
   ]
  },
  {
   "cell_type": "code",
   "execution_count": null,
   "metadata": {},
   "outputs": [
    {
     "name": "stdout",
     "output_type": "stream",
     "text": [
      "Step 10000, Average Loss= 52.663338\n",
      "Step 20000, Average Loss= 23.424046\n",
      "Step 30000, Average Loss= 28.799204\n",
      "Step 40000, Average Loss= 7.9404426\n",
      "Step 50000, Average Loss= 18.83305\n",
      "Step 60000, Average Loss= 10.993977\n",
      "Step 70000, Average Loss= 17.386383\n",
      "Step 80000, Average Loss= 13.522605\n",
      "Step 90000, Average Loss= 9.814818\n",
      "Step 100000, Average Loss= 9.065243\n",
      "Evaluation ...\n",
      "b'five' nearest neighbours: b'nine'b'eight'b'zero'b'two'b'three'b'one'b'four'b'he'\n",
      "b'of' nearest neighbours: b'the'b'in'b'and'b'as'UNKb'is'b'anarchists'b'to'\n",
      "b'king' nearest neighbours: b'at'b'his'b'political'b'what'b'are'b'was'b'with'b's'\n",
      "b'prince' nearest neighbours: b'temperature'b'aquaculture'b'carriages'b'whatever'b'maintaining'b'relevant'b'failure'b'better'\n",
      "b'going' nearest neighbours: b'organisation'b'active'b'de'b'set'b'europe'b'should'b'times'b'visions'\n",
      "b'hardware' nearest neighbours: b'roms'b'zangger'b'inlay'b'ballarat'b'pp'b'torment'b'hillary'b'electrophilic'\n",
      "b'electronics' nearest neighbours: b'meeting'b'interaction'b'actions'b'century'b'areas'b'mean'b'succeeding'b'provide'\n",
      "b'american' nearest neighbours: b'destroy'b'act'b'not'b'class'b'or'b'an'b'and'b'be'\n",
      "b'britain' nearest neighbours: b'especially'b'tucker'b'after'b'being'b'predecessors'b'against'b'great'b'belongs'\n",
      "Step 110000, Average Loss= 17.937887\n",
      "Step 120000, Average Loss= 8.760061\n",
      "Step 130000, Average Loss= 4.1568975\n",
      "Step 140000, Average Loss= 11.940148\n",
      "Step 150000, Average Loss= 10.204803\n",
      "Step 160000, Average Loss= 9.049927\n",
      "Step 170000, Average Loss= 9.169373\n",
      "Step 180000, Average Loss= 6.7550745\n",
      "Step 190000, Average Loss= 5.452813\n",
      "Step 200000, Average Loss= 2.9591947\n",
      "Evaluation ...\n",
      "b'five' nearest neighbours: b'four'b'six'b'nine'b'zero'b'two'b'three'b'seven'b'eight'\n",
      "b'of' nearest neighbours: b'the'b'and'b'a'b'they'b'as'UNKb'from'b'or'\n",
      "b'king' nearest neighbours: b'political'b'its'b'label'b'they'b'of'b'revolution'b'have'b'including'\n",
      "b'prince' nearest neighbours: b'whatever'b'temperature'b'failure'b'better'b'historical'b'laws'b'familiar'b'felt'\n",
      "b'going' nearest neighbours: b'organisation'b'active'b'anarchist'b'property'b'including'b'de'b'with'b'society'\n",
      "b'hardware' nearest neighbours: b'vegan'b'pp'b'unintelligent'b'expelled'b'elaborate'b'live'b'lecture'b'german'\n",
      "b'electronics' nearest neighbours: b'meeting'b'actions'b'interaction'b'mean'b'century'b'areas'b'provide'b'product'\n",
      "b'american' nearest neighbours: b'which'b'means'b'an'b'institutions'b'political'b'their'b'class'b'destroy'\n",
      "b'britain' nearest neighbours: b'term'b'and'b'tucker'b'against'b'especially'b'it'b'his'b'working'\n",
      "Step 210000, Average Loss= 4.206935\n",
      "Step 220000, Average Loss= 9.615288\n",
      "Step 230000, Average Loss= 6.8433394\n",
      "Step 240000, Average Loss= 7.2871537\n",
      "Step 250000, Average Loss= 6.8190637\n",
      "Step 260000, Average Loss= 10.840189\n"
     ]
    }
   ],
   "source": [
    "## Execute the graph\n",
    "init = tf.global_variables_initializer()\n",
    "\n",
    "with tf.Session() as sess:\n",
    "    sess.run(init)   # Edges in the graphs are initialized\n",
    "    \n",
    "    x_test = np.array([word2id[w] for w in eval_words])\n",
    "    avg_loss = 0\n",
    "    for step in range(1, num_steps+1):\n",
    "        batch_x, batch_y = next_batch(bs, num_skips, skip_window)\n",
    "#         print(batch_x, batch_y)\n",
    "        # train\n",
    "        _, avg_loss = sess.run([train_op, loss], feed_dict={X:batch_x, Y:batch_y})\n",
    "#         avg_loss = loss\n",
    "        \n",
    "        if(step%display_step)==0:\n",
    "            print(\"Step \" + str(step) + \", Average Loss= \" + str(avg_loss))\n",
    "        \n",
    "        #Evaluation\n",
    "        if(step%eval_step)==0:\n",
    "            print(\"Evaluation ...\")\n",
    "            sim = sess.run(cosine_sim_op, feed_dict={X:x_test})\n",
    "            for i in range(len(eval_words)):\n",
    "                top_k = 8    # number of nearest words\n",
    "                nearest = (-sim[i,:]).argsort()[1:top_k + 1]\n",
    "                log_str = str(eval_words[i]) + \" nearest neighbours: \"\n",
    "                for k in range(top_k):\n",
    "                    log_str += str(id2word[nearest[k]])\n",
    "                print(log_str)"
   ]
  },
  {
   "cell_type": "code",
   "execution_count": 31,
   "metadata": {},
   "outputs": [
    {
     "name": "stdout",
     "output_type": "stream",
     "text": [
      "b'five'\n",
      "b'of'\n",
      "b'king'\n",
      "b'prince'\n",
      "b'going'\n",
      "b'hardware'\n",
      "b'electronics'\n",
      "b'american'\n",
      "b'britain'\n"
     ]
    },
    {
     "data": {
      "text/plain": [
       "[None, None, None, None, None, None, None, None, None]"
      ]
     },
     "execution_count": 31,
     "metadata": {},
     "output_type": "execute_result"
    }
   ],
   "source": [
    "[print(i) for i in eval_words]"
   ]
  },
  {
   "cell_type": "code",
   "execution_count": null,
   "metadata": {},
   "outputs": [],
   "source": []
  }
 ],
 "metadata": {
  "kernelspec": {
   "display_name": "Python 3",
   "language": "python",
   "name": "python3"
  },
  "language_info": {
   "codemirror_mode": {
    "name": "ipython",
    "version": 3
   },
   "file_extension": ".py",
   "mimetype": "text/x-python",
   "name": "python",
   "nbconvert_exporter": "python",
   "pygments_lexer": "ipython3",
   "version": "3.6.7"
  }
 },
 "nbformat": 4,
 "nbformat_minor": 2
}
