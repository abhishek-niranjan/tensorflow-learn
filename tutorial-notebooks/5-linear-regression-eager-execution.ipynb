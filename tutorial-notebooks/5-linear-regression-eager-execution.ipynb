{
 "cells": [
  {
   "cell_type": "code",
   "execution_count": 1,
   "metadata": {},
   "outputs": [],
   "source": [
    "from __future__ import absolute_import, division, print_function\n",
    "import tensorflow as tf\n",
    "import numpy as np\n",
    "import seaborn as sns"
   ]
  },
  {
   "cell_type": "code",
   "execution_count": 7,
   "metadata": {},
   "outputs": [],
   "source": [
    "## set eager execution true\n",
    "tf.enable_eager_execution()\n",
    "tfe = tf.contrib.eager"
   ]
  },
  {
   "cell_type": "code",
   "execution_count": 3,
   "metadata": {},
   "outputs": [
    {
     "data": {
      "text/plain": [
       "(17,)"
      ]
     },
     "execution_count": 3,
     "metadata": {},
     "output_type": "execute_result"
    }
   ],
   "source": [
    "## Generate Training Data\n",
    "\n",
    "train_X = np.asarray([3.3,4.4,5.5,6.71,6.93,4.168,9.779,6.182,7.59,2.167,\n",
    "                         7.042,10.791,5.313,7.997,5.654,9.27,3.1])\n",
    "train_Y = np.asarray([1.7,2.76,2.09,3.19,1.694,1.573,3.366,2.596,2.53,1.221,\n",
    "                         2.827,3.465,1.65,2.904,2.42,2.94,1.3])\n",
    "\n",
    "n_samples = train_X.shape\n",
    "n_samples"
   ]
  },
  {
   "cell_type": "code",
   "execution_count": 4,
   "metadata": {},
   "outputs": [],
   "source": [
    "## Define hyperparameters\n",
    "\n",
    "lr = 0.01\n",
    "epochs = 1000 ## number of times to go through the entire data\n",
    "display_step = 100"
   ]
  },
  {
   "cell_type": "code",
   "execution_count": 15,
   "metadata": {},
   "outputs": [
    {
     "data": {
      "text/plain": [
       "(<tf.Variable 'weight:0' shape=() dtype=float32, numpy=1.4423302>,\n",
       " <tf.Variable 'bias:0' shape=() dtype=float32, numpy=-0.73254925>)"
      ]
     },
     "execution_count": 15,
     "metadata": {},
     "output_type": "execute_result"
    }
   ],
   "source": [
    "## define W, b parameters of the model\n",
    "\n",
    "W = tfe.Variable(np.random.randn(), name='weight')\n",
    "b = tfe.Variable(np.random.randn(), name='bias')\n",
    "W,b"
   ]
  },
  {
   "cell_type": "code",
   "execution_count": 11,
   "metadata": {},
   "outputs": [],
   "source": [
    "## define model \n",
    "\n",
    "def linear_regression(inputs):\n",
    "    return W*inputs + b\n",
    "\n",
    "def loss(model_fn, inputs , labels):\n",
    "    return tf.reduce_sum(tf.pow(model_fn(inputs)-labels,2))/(2*n_samples)\n",
    "\n",
    "optimizer = tf.train.GradientDescentOptimizer(learning_rate=lr)\n",
    "\n",
    "# Compute gradients\n",
    "grad = tfe.implicit_gradients(loss)\n",
    "\n"
   ]
  },
  {
   "cell_type": "code",
   "execution_count": 16,
   "metadata": {},
   "outputs": [
    {
     "name": "stdout",
     "output_type": "stream",
     "text": [
      "Initial Loss: 42.564632415771484\n",
      "Epoch #50 loss=0.36509230732917786 W=0.4359051585197449 b=-0.5074447393417358\n",
      "Epoch #100 loss=0.28369155526161194 W=0.39608532190322876 b=-0.22528693079948425\n",
      "Epoch #150 loss=0.23365913331508636 W=0.36488282680511475 b=-0.004075242206454277\n",
      "Epoch #200 loss=0.20290705561637878 W=0.34042033553123474 b=0.16935284435749054\n",
      "Epoch #250 loss=0.18400554358959198 W=0.32124191522598267 b=0.30531901121139526\n",
      "Epoch #300 loss=0.17238782346248627 W=0.30620622634887695 b=0.4119153618812561\n",
      "Epoch #350 loss=0.1652470976114273 W=0.2944183349609375 b=0.49548593163490295\n",
      "Epoch #400 loss=0.16085806488990784 W=0.28517675399780273 b=0.5610048770904541\n",
      "Epoch #450 loss=0.15816040337085724 W=0.2779313921928406 b=0.6123709678649902\n",
      "Epoch #500 loss=0.156502366065979 W=0.272251158952713 b=0.6526414752006531\n",
      "Epoch #550 loss=0.1554831713438034 W=0.2677978575229645 b=0.6842133402824402\n",
      "Epoch #600 loss=0.15485677123069763 W=0.26430651545524597 b=0.7089654207229614\n",
      "Epoch #650 loss=0.15447178483009338 W=0.2615693509578705 b=0.728370726108551\n",
      "Epoch #700 loss=0.1542351245880127 W=0.2594234347343445 b=0.743584394454956\n",
      "Epoch #750 loss=0.15408965945243835 W=0.2577410340309143 b=0.7555117011070251\n",
      "Epoch #800 loss=0.15400029718875885 W=0.2564220726490021 b=0.7648624777793884\n",
      "Epoch #850 loss=0.15394532680511475 W=0.2553879916667938 b=0.7721935510635376\n",
      "Epoch #900 loss=0.1539115607738495 W=0.25457730889320374 b=0.7779411673545837\n",
      "Epoch #950 loss=0.15389077365398407 W=0.25394171476364136 b=0.782447099685669\n",
      "Epoch #1000 loss=0.15387806296348572 W=0.25344347953796387 b=0.785979688167572\n"
     ]
    },
    {
     "data": {
      "text/plain": [
       "<matplotlib.axes._subplots.AxesSubplot at 0x7f9054664240>"
      ]
     },
     "execution_count": 16,
     "metadata": {},
     "output_type": "execute_result"
    },
    {
     "data": {
      "image/png": "[encoded data removed]",
      "text/plain": [
       "<Figure size 792x576 with 1 Axes>"
      ]
     },
     "metadata": {},
     "output_type": "display_data"
    }
   ],
   "source": [
    "# Initial loss, before optimizing\n",
    "print(\"Initial Loss: {}\".format(loss(linear_regression, train_X, train_Y)[0]))\n",
    "\n",
    "sns.set(rc={'figure.figsize':(11,8)})\n",
    "\n",
    "\n",
    "## Train the model\n",
    "\n",
    "for epoch in range(epochs):\n",
    "    optimizer.apply_gradients(grad(linear_regression, train_X, train_Y))\n",
    "    if(epoch+1)%display_step == 0:\n",
    "        print(\"Epoch #{}\".format(epoch+1), \"loss={}\".format(loss(linear_regression, train_X, train_Y)[0]), \\\n",
    "              \"W={}\".format(W.numpy()), \"b={}\".format(b.numpy()))\n",
    "        \n",
    "sns.scatterplot(train_X, train_Y)\n",
    "sns.lineplot(train_X, train_X*(W.numpy()) + b.numpy(), color='red', label='Fitted Line')"
   ]
  },
  {
   "cell_type": "code",
   "execution_count": null,
   "metadata": {},
   "outputs": [],
   "source": []
  }
 ],
 "metadata": {
  "kernelspec": {
   "display_name": "Python 3",
   "language": "python",
   "name": "python3"
  },
  "language_info": {
   "codemirror_mode": {
    "name": "ipython",
    "version": 3
   },
   "file_extension": ".py",
   "mimetype": "text/x-python",
   "name": "python",
   "nbconvert_exporter": "python",
   "pygments_lexer": "ipython3",
   "version": "3.6.7"
  }
 },
 "nbformat": 4,
 "nbformat_minor": 2
}
