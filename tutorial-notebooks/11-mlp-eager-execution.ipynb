{
 "cells": [
  {
   "cell_type": "code",
   "execution_count": 1,
   "metadata": {},
   "outputs": [],
   "source": [
    "from tensorflow.examples.tutorials.mnist import input_data\n",
    "import tensorflow as tf\n",
    "tf.enable_eager_execution()\n",
    "tfe = tf.contrib.eager"
   ]
  },
  {
   "cell_type": "code",
   "execution_count": 8,
   "metadata": {},
   "outputs": [
    {
     "name": "stdout",
     "output_type": "stream",
     "text": [
      "Extracting /tmp/data/train-images-idx3-ubyte.gz\n",
      "Extracting /tmp/data/train-labels-idx1-ubyte.gz\n",
      "Extracting /tmp/data/t10k-images-idx3-ubyte.gz\n",
      "Extracting /tmp/data/t10k-labels-idx1-ubyte.gz\n"
     ]
    }
   ],
   "source": [
    "mnist = input_data.read_data_sets(\"/tmp/data/\", one_hot=False)\n"
   ]
  },
  {
   "cell_type": "code",
   "execution_count": 16,
   "metadata": {},
   "outputs": [],
   "source": [
    "# Hyperparameters\n",
    "lr = 0.001\n",
    "num_steps = 1000\n",
    "bs = 128\n",
    "display_step = 100\n",
    "\n",
    "# Network parameters\n",
    "n_h1 = 256\n",
    "n_h2 = 256\n",
    "n_out = 10\n",
    "n_in = 784\n",
    "\n"
   ]
  },
  {
   "cell_type": "code",
   "execution_count": 17,
   "metadata": {},
   "outputs": [],
   "source": [
    "# using TF Dataset to split data in to batches\n",
    "\n",
    "dataset = tf.data.Dataset.from_tensor_slices((mnist.train.images, mnist.train.labels))\n",
    "dataset = dataset.repeat().batch(bs).prefetch(bs)\n",
    "dataset_iter = tfe.Iterator(dataset)"
   ]
  },
  {
   "cell_type": "code",
   "execution_count": 18,
   "metadata": {},
   "outputs": [
    {
     "name": "stdout",
     "output_type": "stream",
     "text": [
      "WARNING:tensorflow:** tfe.Network is deprecated and will be removed in a future version.\n",
      "\n",
      "Please inherit from `tf.keras.Model`, and see its documentation for details. `tf.keras.Model` should be a drop-in replacement for `tfe.Network` in most cases, but note that `track_layer` is no longer necessary or supported. Instead, `Layer` instances are tracked on attribute assignment (see the section of `tf.keras.Model`'s documentation on subclassing). Since the output of `track_layer` is often assigned to an attribute anyway, most code can be ported by simply removing the `track_layer` calls.\n",
      "\n",
      "`tf.keras.Model` works with all TensorFlow `Layer` instances, including those from `tf.layers`, but switching to the `tf.keras.layers` versions along with the migration to `tf.keras.Model` is recommended, since it will preserve variable names. Feel free to import it with an alias to avoid excess typing :).\n"
     ]
    }
   ],
   "source": [
    "## Define the network, to use eager API and tf.layers API together, \n",
    "## we must instantiate a tfe.Network class as follows\n",
    "\n",
    "class mlp_eager(tfe.Network):\n",
    "    def __init__(self):\n",
    "        # Define Each layer\n",
    "        super(mlp_eager, self).__init__()\n",
    "        \n",
    "        self.layer1 = self.track_layer(tf.layers.Dense(n_h1, activation=tf.nn.relu))\n",
    "        \n",
    "        self.layer2 = self.track_layer(tf.layers.Dense(n_h2, activation=tf.nn.relu))\n",
    "        \n",
    "        self.out_layer = self.track_layer(tf.layers.Dense(n_out))\n",
    "    \n",
    "    def call(self, x):\n",
    "        x = self.layer1(x)\n",
    "        x = self.layer2(x)\n",
    "        return self.out_layer(x)\n",
    "\n",
    "network = mlp_eager()\n",
    "        "
   ]
  },
  {
   "cell_type": "code",
   "execution_count": 19,
   "metadata": {},
   "outputs": [],
   "source": [
    "def loss_fn(model_fn, inputs, labels):\n",
    "    return tf.reduce_mean(tf.nn.sparse_softmax_cross_entropy_with_logits(logits=model_fn(inputs), labels=labels))\n",
    "\n",
    "def accuracy_fn(model_fn, inputs, labels):\n",
    "    preds = tf.nn.softmax(model_fn(inputs))\n",
    "    correct_preds = tf.equal(tf.argmax(preds, 1), labels)\n",
    "    return tf.reduce_mean(tf.cast(correct_preds, tf.float32))\n",
    "\n",
    "optimizer = tf.train.AdamOptimizer(learning_rate=lr)\n",
    "\n",
    "grad = tfe.implicit_gradients(loss_fn)"
   ]
  },
  {
   "cell_type": "code",
   "execution_count": 21,
   "metadata": {},
   "outputs": [
    {
     "name": "stdout",
     "output_type": "stream",
     "text": [
      "Initial Loss:  tf.Tensor(0.08449602, shape=(), dtype=float32)\n",
      "Step:  100 loss:  0.07309364 accuracy:  0.9778125\n",
      "Step:  200 loss:  0.069960386 accuracy:  0.97867185\n",
      "Step:  300 loss:  0.05830607 accuracy:  0.9815625\n",
      "Step:  400 loss:  0.057883106 accuracy:  0.9825\n",
      "Step:  500 loss:  0.05129766 accuracy:  0.9853906\n",
      "Step:  600 loss:  0.047039997 accuracy:  0.9853125\n",
      "Step:  700 loss:  0.04275153 accuracy:  0.98726565\n",
      "Step:  800 loss:  0.040562183 accuracy:  0.98859376\n",
      "Step:  900 loss:  0.03719801 accuracy:  0.9886719\n",
      "Step:  1000 loss:  0.031995494 accuracy:  0.9907031\n"
     ]
    }
   ],
   "source": [
    "## Training\n",
    "\n",
    "avg_loss = 0.0\n",
    "avg_acc = 0.0\n",
    "\n",
    "for step in range(num_steps):\n",
    "    \n",
    "    ## Iterate through dataset\n",
    "    d = dataset_iter.next()\n",
    "    \n",
    "    batch_x = d[0]; batch_y = tf.cast(d[1], dtype=tf.int64)\n",
    "    \n",
    "    batch_loss = loss_fn(network, batch_x, batch_y)\n",
    "    avg_loss += batch_loss\n",
    "    \n",
    "    batch_accuracy = accuracy_fn(network, batch_x, batch_y)\n",
    "    avg_acc += batch_accuracy\n",
    "    \n",
    "    if(step == 0):\n",
    "        print(\"Initial Loss: \", avg_loss.numpy())\n",
    "        \n",
    "    optimizer.apply_gradients(grad(network, batch_x, batch_y))\n",
    "    \n",
    "    if(step+1) % display_step == 0:\n",
    "        avg_loss /= display_step\n",
    "        avg_acc /= display_step\n",
    "        \n",
    "        print(\"Step: \", step+1, \"loss: \", avg_loss.numpy(), \"accuracy: \", avg_acc.numpy())\n",
    "        avg_loss = 0.0\n",
    "        avg_acc = 0.0"
   ]
  },
  {
   "cell_type": "code",
   "execution_count": 23,
   "metadata": {},
   "outputs": [
    {
     "name": "stdout",
     "output_type": "stream",
     "text": [
      "Test set Accuracy:  0.9779\n"
     ]
    }
   ],
   "source": [
    "## Evaluation of model\n",
    "testX, testY = mnist.test.images, mnist.test.labels\n",
    "\n",
    "test_acc = accuracy_fn(network, testX, testY)\n",
    "print(\"Test set Accuracy: \", test_acc.numpy())"
   ]
  },
  {
   "cell_type": "code",
   "execution_count": null,
   "metadata": {},
   "outputs": [],
   "source": []
  }
 ],
 "metadata": {
  "kernelspec": {
   "display_name": "Python 3",
   "language": "python",
   "name": "python3"
  },
  "language_info": {
   "codemirror_mode": {
    "name": "ipython",
    "version": 3
   },
   "file_extension": ".py",
   "mimetype": "text/x-python",
   "name": "python",
   "nbconvert_exporter": "python",
   "pygments_lexer": "ipython3",
   "version": "3.6.7"
  }
 },
 "nbformat": 4,
 "nbformat_minor": 2
}
