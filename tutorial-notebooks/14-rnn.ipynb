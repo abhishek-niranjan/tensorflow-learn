{
 "cells": [
  {
   "cell_type": "code",
   "execution_count": 1,
   "metadata": {},
   "outputs": [],
   "source": [
    "import tensorflow as tf\n",
    "from tensorflow.contrib import rnn\n",
    "\n",
    "\n",
    "from tensorflow.examples.tutorials.mnist import input_data"
   ]
  },
  {
   "cell_type": "code",
   "execution_count": 3,
   "metadata": {},
   "outputs": [
    {
     "name": "stdout",
     "output_type": "stream",
     "text": [
      "Extracting /tmp/data/train-images-idx3-ubyte.gz\n",
      "Extracting /tmp/data/train-labels-idx1-ubyte.gz\n",
      "Extracting /tmp/data/t10k-images-idx3-ubyte.gz\n",
      "Extracting /tmp/data/t10k-labels-idx1-ubyte.gz\n"
     ]
    }
   ],
   "source": [
    "mnist = input_data.read_data_sets(\"/tmp/data/\", one_hot=True)"
   ]
  },
  {
   "cell_type": "code",
   "execution_count": 4,
   "metadata": {},
   "outputs": [],
   "source": [
    "## HyperParameters \n",
    "lr = 0.001\n",
    "training_steps = 10000\n",
    "bs = 128\n",
    "display_step = 400\n",
    "\n",
    "# Network Parameters \n",
    "n_in = 28  #### One row of pixels, 28*28 (next row will be used as input at next time step in rnn)\n",
    "timesteps = 28 \n",
    "n_hidden = 128\n",
    "n_out = 10\n",
    "\n",
    "\n",
    "# Graph input\n",
    "X = tf.placeholder(\"float\", shape=[None, timesteps, n_in])\n",
    "Y = tf.placeholder(\"float\", shape=[None, n_out])"
   ]
  },
  {
   "cell_type": "code",
   "execution_count": 5,
   "metadata": {},
   "outputs": [],
   "source": [
    "# Define weights \n",
    "\n",
    "weights = {\n",
    "    'out': tf.Variable(tf.random_normal([n_hidden, n_out]))\n",
    "}\n",
    "\n",
    "biases = {\n",
    "    'out': tf.Variable(tf.random_normal([n_out]))\n",
    "}"
   ]
  },
  {
   "cell_type": "code",
   "execution_count": 6,
   "metadata": {},
   "outputs": [],
   "source": [
    "def RNN(x, weights, biases):\n",
    "    \n",
    "    ## Prepare the data shape to match \"rnn\" function requirements\n",
    "    ## Current Data input shape: (batch_size , timesteps, n_inputs)\n",
    "    \n",
    "    ## required shape: 'timsteps' tensors list of shape (batch_size, n_input)\n",
    "    ## so that the next input will be of next row \n",
    "    \n",
    "    x = tf.unstack(x, timesteps, 1)\n",
    "    \n",
    "    # define a lstm cell with tensorflow\n",
    "    lstm_cell = rnn.BasicLSTMCell(n_hidden, forget_bias=1.0)\n",
    "    \n",
    "    # get lstm cell output\n",
    "    outputs, states = rnn.static_rnn(lstm_cell, x, dtype=tf.float32)\n",
    "    \n",
    "    # Linear activation, using rnn inner loop last output\n",
    "    return tf.matmul(outputs[-1], weights['out']) + biases['out']\n",
    "\n"
   ]
  },
  {
   "cell_type": "code",
   "execution_count": 7,
   "metadata": {},
   "outputs": [
    {
     "name": "stdout",
     "output_type": "stream",
     "text": [
      "WARNING:tensorflow:From <ipython-input-6-f1d364f7ff69>:12: BasicLSTMCell.__init__ (from tensorflow.python.ops.rnn_cell_impl) is deprecated and will be removed in a future version.\n",
      "Instructions for updating:\n",
      "This class is deprecated, please use tf.nn.rnn_cell.LSTMCell, which supports all the feature this cell currently has. Please replace the existing code with tf.nn.rnn_cell.LSTMCell(name='basic_lstm_cell').\n",
      "WARNING:tensorflow:From <ipython-input-7-c54c548ed341>:6: softmax_cross_entropy_with_logits (from tensorflow.python.ops.nn_ops) is deprecated and will be removed in a future version.\n",
      "Instructions for updating:\n",
      "\n",
      "Future major versions of TensorFlow will allow gradients to flow\n",
      "into the labels input on backprop by default.\n",
      "\n",
      "See `tf.nn.softmax_cross_entropy_with_logits_v2`.\n",
      "\n"
     ]
    }
   ],
   "source": [
    "logits = RNN(X, weights, biases)\n",
    "\n",
    "preds = tf.nn.softmax(logits)\n",
    "\n",
    "# define loss\n",
    "loss_op = tf.reduce_mean(tf.nn.softmax_cross_entropy_with_logits(logits=logits, labels=Y))\n",
    "optimizer = tf.train.GradientDescentOptimizer(learning_rate=lr)\n",
    "train_op = optimizer.minimize(loss_op)\n",
    "\n",
    "\n",
    "## Evaluate the model\n",
    "correct_pred = tf.equal(tf.argmax(preds,1), tf.argmax(Y,1))\n",
    "accuracy = tf.reduce_mean(tf.cast(correct_pred, tf.float32))\n",
    "\n",
    "## Initialize the variables\n",
    "init = tf.global_variables_initializer()\n"
   ]
  },
  {
   "cell_type": "code",
   "execution_count": null,
   "metadata": {},
   "outputs": [
    {
     "name": "stdout",
     "output_type": "stream",
     "text": [
      "step  400 Minibatch Loss:  2.028318 Accuracy:  0.3671875\n",
      "step  800 Minibatch Loss:  1.8318708 Accuracy:  0.390625\n",
      "step  1200 Minibatch Loss:  1.6105896 Accuracy:  0.4765625\n",
      "step  1600 Minibatch Loss:  1.3530831 Accuracy:  0.5546875\n",
      "step  2000 Minibatch Loss:  1.2823751 Accuracy:  0.578125\n",
      "step  2400 Minibatch Loss:  1.1713055 Accuracy:  0.625\n",
      "step  2800 Minibatch Loss:  1.2694952 Accuracy:  0.6640625\n",
      "step  3200 Minibatch Loss:  0.96380067 Accuracy:  0.75\n",
      "step  3600 Minibatch Loss:  1.0202482 Accuracy:  0.7109375\n",
      "step  4000 Minibatch Loss:  0.8332682 Accuracy:  0.734375\n",
      "step  4400 Minibatch Loss:  0.95905715 Accuracy:  0.6875\n"
     ]
    }
   ],
   "source": [
    "# Training\n",
    "with tf.Session() as sess:\n",
    "    sess.run(init)\n",
    "    \n",
    "    for step in range(1, training_steps):\n",
    "        batch_x, batch_y = mnist.train.next_batch(bs)\n",
    "        \n",
    "        batch_x = batch_x.reshape((bs, timesteps, n_in))\n",
    "        \n",
    "        sess.run(train_op, feed_dict={X:batch_x, Y:batch_y})\n",
    "        \n",
    "        if(step % display_step == 0):\n",
    "            loss, acc = sess.run([loss_op, accuracy], feed_dict={X:batch_x, Y:batch_y})\n",
    "\n",
    "            print(\"step \", str(step), \"Minibatch Loss: \", loss, \"Accuracy: \", acc)\n",
    "    \n",
    "    print(\"Training Done\")\n",
    "    \n",
    "    ## calcualte accuracy  for 128 mnist test images\n",
    "    test_len = 128\n",
    "    test_data = mnist.test.images[:test_len].reshape((-1, timesteps, n_in))\n",
    "    test_label = mnist.test.labels[:test_len]\n",
    "    acc = sess.run(accuracy, feed_dict={X:test_data, Y:test_label})\n",
    "    print(\"test Accuracy\",  acc)"
   ]
  },
  {
   "cell_type": "code",
   "execution_count": null,
   "metadata": {},
   "outputs": [],
   "source": []
  }
 ],
 "metadata": {
  "kernelspec": {
   "display_name": "Python 3",
   "language": "python",
   "name": "python3"
  },
  "language_info": {
   "codemirror_mode": {
    "name": "ipython",
    "version": 3
   },
   "file_extension": ".py",
   "mimetype": "text/x-python",
   "name": "python",
   "nbconvert_exporter": "python",
   "pygments_lexer": "ipython3",
   "version": "3.6.7"
  }
 },
 "nbformat": 4,
 "nbformat_minor": 2
}
