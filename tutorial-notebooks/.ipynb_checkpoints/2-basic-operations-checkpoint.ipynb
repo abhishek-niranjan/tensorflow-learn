{
 "cells": [
  {
   "cell_type": "code",
   "execution_count": 1,
   "metadata": {},
   "outputs": [],
   "source": [
    "import tensorflow as tf"
   ]
  },
  {
   "cell_type": "code",
   "execution_count": 2,
   "metadata": {},
   "outputs": [],
   "source": [
    "## Calling tf.constant(42.0) creates a single tf.Operation that produces the value 42.0, \n",
    "## adds it to the default graph, and returns a tf.Tensor that represents the value of the constant.\n",
    "\n",
    "## Calling tf.matmul(x, y) creates a single tf.Operation that multiplies the values of tf.Tensor objects x and y, \n",
    "## adds it to the default graph, and returns a tf.Tensor that represents the result of the multiplication.\n",
    "\n",
    "a = tf.constant(2) # Graph node with constant value 2\n",
    "b = tf.constant(3) # Graph node with constant value 3\n",
    "\n"
   ]
  },
  {
   "cell_type": "code",
   "execution_count": 3,
   "metadata": {},
   "outputs": [
    {
     "name": "stdout",
     "output_type": "stream",
     "text": [
      "Tensor(\"Const:0\", shape=(), dtype=int32) Tensor(\"Const_1:0\", shape=(), dtype=int32)\n"
     ]
    }
   ],
   "source": [
    "## We have to run the session to execute the graph\n",
    "## Without executing the graph, you won't get the ouput of the constructor \n",
    "## Just the broader class of the node(i.e Constant here) like this\n",
    "print(a, b)"
   ]
  },
  {
   "cell_type": "code",
   "execution_count": 11,
   "metadata": {},
   "outputs": [
    {
     "name": "stdout",
     "output_type": "stream",
     "text": [
      "a: 2\n",
      "b: 3\n",
      "Addition a+b: 5\n",
      "Multiplication a+b: 6\n",
      "\n",
      "\n",
      "__________The session is now closed______________\n",
      "\n",
      "\n",
      "a: Tensor(\"Const:0\", shape=(), dtype=int32)\n",
      "b: Tensor(\"Const_1:0\", shape=(), dtype=int32)\n",
      "Addition a+b: Tensor(\"add_8:0\", shape=(), dtype=int32)\n",
      "Multiplication a+b: Tensor(\"mul_8:0\", shape=(), dtype=int32)\n"
     ]
    }
   ],
   "source": [
    "## Execute the graph\n",
    "with tf.Session() as sess:\n",
    "    print(\"a:\", sess.run(a))\n",
    "    print(\"b:\", sess.run(b))\n",
    "    print(\"Addition a+b:\", sess.run(a+b))\n",
    "    print(\"Multiplication a+b:\", sess.run(a*b))\n",
    "    \n",
    "print(\"\\n\\n__________The session is now closed______________\\n\\n\")\n",
    "## The session is now closed\n",
    "print(\"a:\", a)\n",
    "print(\"b:\", b)\n",
    "print(\"Addition a+b:\", a+b)\n",
    "print(\"Multiplication a+b:\", a*b)"
   ]
  },
  {
   "cell_type": "markdown",
   "metadata": {},
   "source": [
    "### A computational graph is a series of TensorFlow operations arranged into a graph. The graph is composed of two types of objects.\n",
    "\n",
    "   **1. tf.Operation (or \"ops\"):** The nodes of the graph. Operations describe calculations ***that consume and produce tensors.***  \n",
    "   **2. tf.Tensor:** The edges in the graph. These represent the values that will flow through the graph. Most TensorFlow functions return tf.Tensors.\n",
    "\n",
    "\n"
   ]
  },
  {
   "cell_type": "markdown",
   "metadata": {},
   "source": [
    "### Session\n",
    "To evaluate tensors, ***instantiate a tf.Session object***, informally known as a session. A session encapsulates the state of the TensorFlow runtime, and runs TensorFlow operations. ***If a tf.Graph is like a .py file, a tf.Session is like the python executable. ***"
   ]
  },
  {
   "cell_type": "markdown",
   "metadata": {},
   "source": [
    "### Feeding\n",
    "\n",
    "As it stands, this graph is not especially interesting because it always produces a constant result. **A graph can be parameterized to accept external inputs, known as placeholders.** A placeholder is a promise to provide a value later, like a function argument."
   ]
  },
  {
   "cell_type": "code",
   "execution_count": 12,
   "metadata": {},
   "outputs": [],
   "source": [
    "### Using Feeding\n",
    "a = tf.placeholder(tf.int16)\n",
    "b = tf.placeholder(tf.int16)"
   ]
  },
  {
   "cell_type": "code",
   "execution_count": 13,
   "metadata": {},
   "outputs": [],
   "source": [
    "## Define some operations\n",
    "add = tf.add(a,b)\n",
    "mult = tf.multiply(a,b)"
   ]
  },
  {
   "cell_type": "code",
   "execution_count": 15,
   "metadata": {},
   "outputs": [
    {
     "name": "stdout",
     "output_type": "stream",
     "text": [
      "Addition with a=2 and b=3:  5\n",
      "Multiplication with a=5 and b=4:  20\n"
     ]
    }
   ],
   "source": [
    "## Launch the default graph\n",
    "\n",
    "## feed_dict argument is used to use external input\n",
    "\n",
    "with tf.Session() as sess:\n",
    "    print(\"Addition with a=2 and b=3: \", sess.run(add, feed_dict={a:2, b:3}))\n",
    "    print(\"Multiplication with a=5 and b=4: \", sess.run(mult, feed_dict={a:5, b:4}))\n"
   ]
  },
  {
   "cell_type": "code",
   "execution_count": 16,
   "metadata": {},
   "outputs": [],
   "source": [
    "# MATRIX MULTIPLICATION\n",
    "\n",
    "## Create a Constant op that produces 1X2 matrix, the op is added as a node to the default graph\n",
    "m1 = tf.constant([[3.0,3.0]]) # 1X2 matrix\n",
    "m2 = tf.constant([[2.0],[2.0]]) #2X1 matrix"
   ]
  },
  {
   "cell_type": "code",
   "execution_count": 17,
   "metadata": {},
   "outputs": [],
   "source": [
    "## Create a matmul op that takes m1 and m2 as inputs and returns m1*m2\n",
    "\n",
    "prod = tf.matmul(m1, m2)"
   ]
  },
  {
   "cell_type": "code",
   "execution_count": 22,
   "metadata": {},
   "outputs": [
    {
     "name": "stdout",
     "output_type": "stream",
     "text": [
      "Mat Mul:  [[12.]]\n",
      "Tensor(\"MatMul:0\", shape=(1, 1), dtype=float32)\n"
     ]
    }
   ],
   "source": [
    "# [3.0 3.0] X transpose([2.0 2.0]) = 3*2 + 3*2 = 12\n",
    "\n",
    "with tf.Session() as sess:\n",
    "    print(\"Mat Mul: \", sess.run(prod))\n",
    "    print(prod)\n",
    "    "
   ]
  },
  {
   "cell_type": "code",
   "execution_count": null,
   "metadata": {},
   "outputs": [],
   "source": []
  }
 ],
 "metadata": {
  "kernelspec": {
   "display_name": "Python 3",
   "language": "python",
   "name": "python3"
  },
  "language_info": {
   "codemirror_mode": {
    "name": "ipython",
    "version": 3
   },
   "file_extension": ".py",
   "mimetype": "text/x-python",
   "name": "python",
   "nbconvert_exporter": "python",
   "pygments_lexer": "ipython3",
   "version": "3.6.7"
  }
 },
 "nbformat": 4,
 "nbformat_minor": 2
}
