{
 "cells": [
  {
   "cell_type": "code",
   "execution_count": 1,
   "metadata": {},
   "outputs": [],
   "source": [
    "from tensorflow.examples.tutorials.mnist import input_data\n",
    "import tensorflow as tf"
   ]
  },
  {
   "cell_type": "code",
   "execution_count": 3,
   "metadata": {},
   "outputs": [
    {
     "name": "stdout",
     "output_type": "stream",
     "text": [
      "Extracting /tmp/data/train-images-idx3-ubyte.gz\n",
      "Extracting /tmp/data/train-labels-idx1-ubyte.gz\n",
      "Extracting /tmp/data/t10k-images-idx3-ubyte.gz\n",
      "Extracting /tmp/data/t10k-labels-idx1-ubyte.gz\n"
     ]
    }
   ],
   "source": [
    "mnist = input_data.read_data_sets(\"/tmp/data/\", one_hot=True)\n"
   ]
  },
  {
   "cell_type": "code",
   "execution_count": 52,
   "metadata": {},
   "outputs": [],
   "source": [
    "# Hyperparameters\n",
    "lr = 0.01\n",
    "num_steps = 2000\n",
    "bs = 128\n",
    "display_step = 100\n",
    "\n",
    "# Network parameters\n",
    "n_h1 = 256\n",
    "n_h2 = 256\n",
    "n_out = 10\n",
    "n_in = 784\n",
    "\n",
    "# Graph Input\n",
    "X = tf.placeholder(\"float\", [None, n_in])\n",
    "Y = tf.placeholder(\"float\", [None, n_out])"
   ]
  },
  {
   "cell_type": "code",
   "execution_count": 53,
   "metadata": {},
   "outputs": [],
   "source": [
    "# Define network variables\n",
    "\n",
    "weights = {\n",
    "    'h1': tf.Variable(tf.random_normal([n_in, n_h1])),\n",
    "    'h2': tf.Variable(tf.random_normal([n_h1, n_h2])),\n",
    "    'out': tf.Variable(tf.random_normal([n_h2, n_out]))\n",
    "}\n",
    "\n",
    "biases = {\n",
    "    'h1': tf.Variable(tf.zeros([n_h1])),\n",
    "    'h2': tf.Variable(tf.zeros([n_h2])),\n",
    "    'out': tf.Variable(tf.zeros([n_out]))\n",
    "}\n",
    "\n"
   ]
  },
  {
   "cell_type": "code",
   "execution_count": 54,
   "metadata": {},
   "outputs": [],
   "source": [
    "# Define the network\n",
    "\n",
    "def mlp_raw(x):\n",
    "    layer1 = tf.nn.relu(tf.add(tf.matmul(x, weights['h1']), biases['h1']))\n",
    "    layer2 = tf.nn.relu(tf.add(tf.matmul(layer1, weights['h2']), biases['h2']))\n",
    "    out_layer = tf.add(tf.matmul(layer2, weights['out']), biases['out'])\n",
    "    return out_layer\n",
    "\n"
   ]
  },
  {
   "cell_type": "code",
   "execution_count": 55,
   "metadata": {},
   "outputs": [],
   "source": [
    "logits = mlp_raw(X)\n",
    "\n",
    "# Define cross_entropy loss\n",
    "loss = tf.reduce_mean(tf.nn.softmax_cross_entropy_with_logits(logits=logits, labels=Y))\n",
    "\n",
    "optimizer = tf.train.GradientDescentOptimizer(learning_rate=lr)\n",
    "train_op = optimizer.minimize(loss)\n",
    "\n",
    "\n",
    "# Evaluation of the model \n",
    "correct_preds = tf.equal(tf.argmax(tf.nn.softmax(logits), 1), tf.argmax(Y,1))\n",
    "acc = tf.reduce_mean(tf.cast(correct_preds, tf.float32))\n",
    "\n",
    "# Initialize the global variables\n",
    "init = tf.global_variables_initializer()"
   ]
  },
  {
   "cell_type": "code",
   "execution_count": 56,
   "metadata": {},
   "outputs": [
    {
     "name": "stdout",
     "output_type": "stream",
     "text": [
      "Step 100 minibatch-loss:  41.722427 training-accuracy:  0.8671875\n",
      "Step 200 minibatch-loss:  37.930737 training-accuracy:  0.875\n",
      "Step 300 minibatch-loss:  34.3217 training-accuracy:  0.9375\n",
      "Step 400 minibatch-loss:  31.455181 training-accuracy:  0.8984375\n",
      "Step 500 minibatch-loss:  21.056313 training-accuracy:  0.9296875\n",
      "Step 600 minibatch-loss:  22.051174 training-accuracy:  0.921875\n",
      "Step 700 minibatch-loss:  19.72334 training-accuracy:  0.9140625\n",
      "Step 800 minibatch-loss:  8.471995 training-accuracy:  0.9609375\n",
      "Step 900 minibatch-loss:  9.58073 training-accuracy:  0.9609375\n",
      "Step 1000 minibatch-loss:  5.7602 training-accuracy:  0.9765625\n",
      "Step 1100 minibatch-loss:  8.808601 training-accuracy:  0.9609375\n",
      "Step 1200 minibatch-loss:  11.260468 training-accuracy:  0.96875\n",
      "Step 1300 minibatch-loss:  4.9134026 training-accuracy:  0.96875\n",
      "Step 1400 minibatch-loss:  4.683527 training-accuracy:  0.984375\n",
      "Step 1500 minibatch-loss:  10.469477 training-accuracy:  0.953125\n",
      "Step 1600 minibatch-loss:  4.1368484 training-accuracy:  0.9765625\n",
      "Step 1700 minibatch-loss:  6.0783668 training-accuracy:  0.96875\n",
      "Step 1800 minibatch-loss:  3.573747 training-accuracy:  0.984375\n",
      "Step 1900 minibatch-loss:  1.418616 training-accuracy:  0.9765625\n",
      "Training finished\n",
      "Testing Accuracy:  0.9195\n"
     ]
    }
   ],
   "source": [
    "with tf.Session() as sess:\n",
    "    sess.run(init)\n",
    "    \n",
    "    for step in range(1, num_steps):\n",
    "        batch_x, batch_y = mnist.train.next_batch(bs)\n",
    "        _, cost = sess.run([train_op, loss], feed_dict={X:batch_x, Y:batch_y})\n",
    "        if step%display_step == 0:\n",
    "            accuracy = sess.run(acc, feed_dict={X:batch_x, Y:batch_y})\n",
    "            print(\"Step \" + str(step), \"minibatch-loss: \", cost, \"training-accuracy: \", accuracy)\n",
    "    \n",
    "    print(\"Training finished\")\n",
    "    ## Evaluation of the model\n",
    "    accuracy = sess.run(acc, feed_dict={X:mnist.test.images, Y:mnist.test.labels})\n",
    "    print(\"Testing Accuracy: \", accuracy)"
   ]
  },
  {
   "cell_type": "code",
   "execution_count": null,
   "metadata": {},
   "outputs": [],
   "source": []
  },
  {
   "cell_type": "code",
   "execution_count": null,
   "metadata": {},
   "outputs": [],
   "source": []
  }
 ],
 "metadata": {
  "kernelspec": {
   "display_name": "Python 3",
   "language": "python",
   "name": "python3"
  },
  "language_info": {
   "codemirror_mode": {
    "name": "ipython",
    "version": 3
   },
   "file_extension": ".py",
   "mimetype": "text/x-python",
   "name": "python",
   "nbconvert_exporter": "python",
   "pygments_lexer": "ipython3",
   "version": "3.6.7"
  }
 },
 "nbformat": 4,
 "nbformat_minor": 2
}
