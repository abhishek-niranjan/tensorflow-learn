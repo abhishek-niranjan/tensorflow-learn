{
 "cells": [
  {
   "cell_type": "markdown",
   "metadata": {},
   "source": [
    "# Eager API Tensorflow\n",
    "\n",
    "## What is Tensorflow's Eager API\n",
    "\n",
    "Eager execution is an imperative, define-by-run interface where operations are executed immediately as they are called from Python. This makes it easier to get started with TensorFlow, and can make research and development more intuitive. A vast majority of the TensorFlow API remains the same whether eager execution is enabled or not.  \n",
    "The benefits of eager execution include:\n",
    "\n",
    "   - Fast debugging with immediate run-time errors and integration with Python tools\n",
    "   - Support for dynamic models using easy-to-use Python control flow\n",
    "   - Strong support for custom and higher-order gradients\n",
    "   - Almost all of the available TensorFlow operations\n",
    "\n",
    "More info: https://research.googleblog.com/2017/10/eager-execution-imperative-define-by.html"
   ]
  },
  {
   "cell_type": "code",
   "execution_count": 1,
   "metadata": {},
   "outputs": [],
   "source": [
    "from __future__ import absolute_import, division, print_function\n",
    "import numpy as np\n",
    "import tensorflow as tf"
   ]
  },
  {
   "cell_type": "code",
   "execution_count": 2,
   "metadata": {},
   "outputs": [],
   "source": [
    "## Set eager_execution \n",
    "tf.enable_eager_execution()\n",
    "tfe = tf.contrib.eager"
   ]
  },
  {
   "cell_type": "code",
   "execution_count": 14,
   "metadata": {},
   "outputs": [
    {
     "name": "stdout",
     "output_type": "stream",
     "text": [
      "We can now see the exact values of a and b without running session - \n",
      "2\n",
      "3\n"
     ]
    }
   ],
   "source": [
    "## Define constant ops\n",
    "a = tf.constant(2)\n",
    "b = tf.constant(3)\n",
    "\n",
    "print(\"We can now see the exact values of a and b without running session - \")\n",
    "print(a.__int__())\n",
    "print(b.__int__())\n"
   ]
  },
  {
   "cell_type": "code",
   "execution_count": 16,
   "metadata": {},
   "outputs": [
    {
     "name": "stdout",
     "output_type": "stream",
     "text": [
      "a+b :  5\n",
      "a*b :  6\n"
     ]
    }
   ],
   "source": [
    "## Running the operation without tf.Session()\n",
    "\n",
    "print(\"a+b : \", (a+b).__int__())\n",
    "print(\"a*b : \", (a*b).__int__())"
   ]
  },
  {
   "cell_type": "code",
   "execution_count": 28,
   "metadata": {},
   "outputs": [
    {
     "name": "stdout",
     "output_type": "stream",
     "text": [
      "Tensor a:\n",
      " tf.Tensor(\n",
      "[[2. 1.]\n",
      " [1. 0.]], shape=(2, 2), dtype=float32)\n",
      "Tensor b:\n",
      " tf.Tensor(\n",
      "[[3. 0.]\n",
      " [5. 1.]], shape=(2, 2), dtype=float32)\n"
     ]
    }
   ],
   "source": [
    "## Tensorflow eager-tensors are compatible with numpy ndarrays\n",
    "\n",
    "a = tf.constant([[2.0, 1.0], \n",
    "                 [1.0, 0.0]], dtype=tf.float32)\n",
    "print(\"Tensor a:\\n\", a.__str__())\n",
    "b = tf.constant([[3.0, 0.0],\n",
    "                 [5.0, 1.0]], dtype=np.float32)\n",
    "print(\"Tensor b:\\n\", b.__str__())"
   ]
  },
  {
   "cell_type": "code",
   "execution_count": 30,
   "metadata": {},
   "outputs": [
    {
     "name": "stdout",
     "output_type": "stream",
     "text": [
      "a+b:  tf.Tensor(\n",
      "[[5. 1.]\n",
      " [6. 1.]], shape=(2, 2), dtype=float32)\n",
      "a.b:  tf.Tensor(\n",
      "[[6. 0.]\n",
      " [5. 0.]], shape=(2, 2), dtype=float32)\n",
      "a*b:  tf.Tensor(\n",
      "[[11.  1.]\n",
      " [ 3.  0.]], shape=(2, 2), dtype=float32)\n"
     ]
    }
   ],
   "source": [
    "print(\"a+b: \", (a+b).__str__())\n",
    "print(\"a.b: \", (a*b).__str__())  ## element to element multiplication\n",
    "print(\"a*b: \", tf.matmul(a,b).__str__())"
   ]
  },
  {
   "cell_type": "code",
   "execution_count": 35,
   "metadata": {},
   "outputs": [
    {
     "name": "stdout",
     "output_type": "stream",
     "text": [
      "tf.Tensor(\n",
      "[[2. 1.]\n",
      " [1. 0.]], shape=(2, 2), dtype=float32)\n"
     ]
    }
   ],
   "source": []
  },
  {
   "cell_type": "code",
   "execution_count": null,
   "metadata": {},
   "outputs": [],
   "source": []
  }
 ],
 "metadata": {
  "kernelspec": {
   "display_name": "Python 3",
   "language": "python",
   "name": "python3"
  },
  "language_info": {
   "codemirror_mode": {
    "name": "ipython",
    "version": 3
   },
   "file_extension": ".py",
   "mimetype": "text/x-python",
   "name": "python",
   "nbconvert_exporter": "python",
   "pygments_lexer": "ipython3",
   "version": "3.6.7"
  }
 },
 "nbformat": 4,
 "nbformat_minor": 2
}
