{
 "cells": [
  {
   "cell_type": "code",
   "execution_count": 1,
   "metadata": {},
   "outputs": [],
   "source": [
    "import tensorflow as tf\n",
    "from tensorflow.examples.tutorials.mnist import input_data"
   ]
  },
  {
   "cell_type": "code",
   "execution_count": 2,
   "metadata": {},
   "outputs": [],
   "source": [
    "# set eager execution true\n",
    "\n",
    "tf.enable_eager_execution()\n",
    "tfe = tf.contrib.eager"
   ]
  },
  {
   "cell_type": "code",
   "execution_count": 4,
   "metadata": {},
   "outputs": [
    {
     "name": "stdout",
     "output_type": "stream",
     "text": [
      "Extracting /tmp/data/train-images-idx3-ubyte.gz\n",
      "Extracting /tmp/data/train-labels-idx1-ubyte.gz\n",
      "Extracting /tmp/data/t10k-images-idx3-ubyte.gz\n",
      "Extracting /tmp/data/t10k-labels-idx1-ubyte.gz\n"
     ]
    }
   ],
   "source": [
    "mnist = input_data.read_data_sets(\"/tmp/data/\")"
   ]
  },
  {
   "cell_type": "code",
   "execution_count": 32,
   "metadata": {},
   "outputs": [],
   "source": [
    "# Hyperparameters\n",
    "lr = 0.1\n",
    "bs = 100\n",
    "num_steps = 1000\n",
    "display_step = 50\n",
    "\n"
   ]
  },
  {
   "cell_type": "code",
   "execution_count": 8,
   "metadata": {},
   "outputs": [],
   "source": [
    "# Iterator for the dataset\n",
    "\n",
    "dataset = tf.data.Dataset.from_tensor_slices((mnist.train.images, mnist.train.labels))\n",
    "dataset = dataset.repeat().batch(bs).prefetch(bs)\n",
    "dataset_iter = tfe.Iterator(dataset)"
   ]
  },
  {
   "cell_type": "code",
   "execution_count": 33,
   "metadata": {},
   "outputs": [],
   "source": [
    "# Variables \n",
    "W = tfe.Variable(tf.zeros([784, 10]), name='Weights')\n",
    "b = tfe.Variable(tf.zeros([10]), name='bias')\n",
    "\n",
    "# Logistic regression = logit(W*x + b)\n",
    "\n",
    "def logistic_regression(inputs):\n",
    "    return tf.matmul(inputs, W) + b\n",
    "\n",
    "def loss_fn(model_fn, inputs, labels):\n",
    "    return tf.reduce_mean(\\\n",
    "                tf.nn.sparse_softmax_cross_entropy_with_logits(logits=model_fn(inputs), labels=labels))\n",
    "\n",
    "def accuracy(model_fn, inputs, labels):\n",
    "    preds = tf.nn.softmax(model_fn(inputs))\n",
    "    correc_preds = tf.equal(tf.argmax(preds, 1), labels)\n",
    "    return tf.reduce_mean(tf.cast(correc_preds, tf.float32))"
   ]
  },
  {
   "cell_type": "code",
   "execution_count": 34,
   "metadata": {},
   "outputs": [],
   "source": [
    "## Optimizer \n",
    "optimizer = tf.train.GradientDescentOptimizer(learning_rate=lr)\n",
    "\n",
    "## Gradients\n",
    "grad = tfe.implicit_gradients(loss_fn)"
   ]
  },
  {
   "cell_type": "code",
   "execution_count": 35,
   "metadata": {},
   "outputs": [
    {
     "name": "stdout",
     "output_type": "stream",
     "text": [
      "Initial Loss:  2.3025854\n",
      "Step:  50 loss:  0.8161381 acc:  0.79\n",
      "Step:  100 loss:  0.7015484 acc:  0.86\n",
      "Step:  150 loss:  0.87807983 acc:  0.75\n",
      "Step:  200 loss:  0.5499836 acc:  0.88\n",
      "Step:  250 loss:  0.33186835 acc:  0.93\n",
      "Step:  300 loss:  0.3777331 acc:  0.87\n",
      "Step:  350 loss:  0.45444298 acc:  0.85\n",
      "Step:  400 loss:  0.52011335 acc:  0.85\n",
      "Step:  450 loss:  0.59544486 acc:  0.84\n",
      "Step:  500 loss:  0.38248003 acc:  0.89\n",
      "Step:  550 loss:  0.4988977 acc:  0.85\n",
      "Step:  600 loss:  0.40463015 acc:  0.87\n",
      "Step:  650 loss:  0.43248162 acc:  0.91\n",
      "Step:  700 loss:  0.64552605 acc:  0.82\n",
      "Step:  750 loss:  0.39121315 acc:  0.92\n",
      "Step:  800 loss:  0.23755313 acc:  0.93\n",
      "Step:  850 loss:  0.27960163 acc:  0.92\n",
      "Step:  900 loss:  0.3496592 acc:  0.88\n",
      "Step:  950 loss:  0.4392328 acc:  0.85\n",
      "Step:  1000 loss:  0.5319768 acc:  0.86\n"
     ]
    }
   ],
   "source": [
    "# Training \n",
    "\n",
    "avg_loss = 0.0\n",
    "avg_acc = 0.0\n",
    "\n",
    "for step in range(num_steps):\n",
    "    # iterate through dataset to get next batch\n",
    "    d = dataset_iter.next()\n",
    "    \n",
    "    batch_xs = d[0]; batch_ys = tf.cast(d[1], dtype=tf.int64)\n",
    "    \n",
    "    # Compute the batch loss\n",
    "    batch_loss = loss_fn(logistic_regression, batch_xs, batch_ys)\n",
    "    avg_loss = batch_loss\n",
    "    \n",
    "    # computer the batch accuracy\n",
    "    batch_acc = accuracy(logistic_regression, batch_xs, batch_ys)\n",
    "    avg_acc = batch_acc\n",
    "    \n",
    "    if(step==0):\n",
    "        print(\"Initial Loss: \", avg_loss.numpy())\n",
    "    \n",
    "    \n",
    "    ## Update the variables with the gradients\n",
    "    optimizer.apply_gradients(grad(logistic_regression, batch_xs, batch_ys))\n",
    "    \n",
    "    if(step+1)%display_step==0:\n",
    "        print(\"Step: \", step+1, \"loss: \", avg_loss.numpy(), \"acc: \", avg_acc.numpy())\n",
    "        avg_loss = 0.0\n",
    "        avg_acc = 0.0"
   ]
  },
  {
   "cell_type": "code",
   "execution_count": 36,
   "metadata": {},
   "outputs": [
    {
     "name": "stdout",
     "output_type": "stream",
     "text": [
      "Testset Accuracy:  0.91\n"
     ]
    }
   ],
   "source": [
    "## Evaluate model on the test image set\n",
    "testX = mnist.test.images\n",
    "testY = mnist.test.labels\n",
    "\n",
    "test_acc = accuracy(logistic_regression, testX, testY)\n",
    "print(\"Testset Accuracy: \", test_acc.numpy())"
   ]
  },
  {
   "cell_type": "code",
   "execution_count": null,
   "metadata": {},
   "outputs": [],
   "source": []
  }
 ],
 "metadata": {
  "kernelspec": {
   "display_name": "Python 3",
   "language": "python",
   "name": "python3"
  },
  "language_info": {
   "codemirror_mode": {
    "name": "ipython",
    "version": 3
   },
   "file_extension": ".py",
   "mimetype": "text/x-python",
   "name": "python",
   "nbconvert_exporter": "python",
   "pygments_lexer": "ipython3",
   "version": "3.6.7"
  }
 },
 "nbformat": 4,
 "nbformat_minor": 2
}
