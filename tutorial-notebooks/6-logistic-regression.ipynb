{
 "cells": [
  {
   "cell_type": "code",
   "execution_count": 8,
   "metadata": {},
   "outputs": [],
   "source": [
    "import tensorflow as tf\n",
    "import numpy as np\n",
    "from tensorflow.examples.tutorials.mnist import input_data"
   ]
  },
  {
   "cell_type": "code",
   "execution_count": 3,
   "metadata": {},
   "outputs": [
    {
     "name": "stdout",
     "output_type": "stream",
     "text": [
      "WARNING:tensorflow:From <ipython-input-3-d1180d3355ee>:2: read_data_sets (from tensorflow.contrib.learn.python.learn.datasets.mnist) is deprecated and will be removed in a future version.\n",
      "Instructions for updating:\n",
      "Please use alternatives such as official/mnist/dataset.py from tensorflow/models.\n",
      "WARNING:tensorflow:From /home/test/anaconda2/envs/g2p/lib/python3.6/site-packages/tensorflow/contrib/learn/python/learn/datasets/mnist.py:260: maybe_download (from tensorflow.contrib.learn.python.learn.datasets.base) is deprecated and will be removed in a future version.\n",
      "Instructions for updating:\n",
      "Please write your own downloading logic.\n",
      "WARNING:tensorflow:From /home/test/anaconda2/envs/g2p/lib/python3.6/site-packages/tensorflow/contrib/learn/python/learn/datasets/mnist.py:262: extract_images (from tensorflow.contrib.learn.python.learn.datasets.mnist) is deprecated and will be removed in a future version.\n",
      "Instructions for updating:\n",
      "Please use tf.data to implement this functionality.\n",
      "Extracting /tmp/data/train-images-idx3-ubyte.gz\n",
      "WARNING:tensorflow:From /home/test/anaconda2/envs/g2p/lib/python3.6/site-packages/tensorflow/contrib/learn/python/learn/datasets/mnist.py:267: extract_labels (from tensorflow.contrib.learn.python.learn.datasets.mnist) is deprecated and will be removed in a future version.\n",
      "Instructions for updating:\n",
      "Please use tf.data to implement this functionality.\n",
      "Extracting /tmp/data/train-labels-idx1-ubyte.gz\n",
      "Extracting /tmp/data/t10k-images-idx3-ubyte.gz\n",
      "Extracting /tmp/data/t10k-labels-idx1-ubyte.gz\n",
      "WARNING:tensorflow:From /home/test/anaconda2/envs/g2p/lib/python3.6/site-packages/tensorflow/contrib/learn/python/learn/datasets/mnist.py:290: DataSet.__init__ (from tensorflow.contrib.learn.python.learn.datasets.mnist) is deprecated and will be removed in a future version.\n",
      "Instructions for updating:\n",
      "Please use alternatives such as official/mnist/dataset.py from tensorflow/models.\n"
     ]
    }
   ],
   "source": [
    "## Prepare data\n",
    "mnist = input_data.read_data_sets(\"/tmp/data/\")"
   ]
  },
  {
   "cell_type": "code",
   "execution_count": 6,
   "metadata": {},
   "outputs": [],
   "source": [
    "# Hyperparameters\n",
    "lr = 0.01  # learning rate\n",
    "epochs = 20\n",
    "bs = 100   # batch size\n",
    "display_step = 1\n",
    "\n",
    "# tf graph input\n",
    "x = tf.placeholder(tf.float32, [None, 784])  ## To feed x with batch_sizeX784 matrix\n",
    "y = tf.placeholder(tf.int64, [None])   ## 0-9 digits recognition(total 10 classes)\n",
    "\n",
    "\n",
    "# Set Model Weights\n",
    "W = tf.Variable(tf.zeros([784,10]))   ## Matrix of size 784X10\n",
    "b = tf.Variable(tf.zeros([10]))       ## Bias vector of size 1X10\n",
    "\n",
    "# Construct Model\n",
    "pred = tf.matmul(x, W) + b   ## Softmax activation on the 10 neurons\n",
    "\n",
    "# Minimize cross_entropy_error\n",
    "loss = tf.nn.sparse_softmax_cross_entropy_with_logits(labels=y, logits=pred)\n",
    "\n",
    "# Optimizer\n",
    "optimizer = tf.train.GradientDescentOptimizer(learning_rate=lr).minimize(loss)\n",
    "\n",
    "# Initialize variables(edges) in the graph\n",
    "init = tf.global_variables_initializer()\n"
   ]
  },
  {
   "cell_type": "code",
   "execution_count": 32,
   "metadata": {},
   "outputs": [
    {
     "name": "stdout",
     "output_type": "stream",
     "text": [
      "Epoch:  1 loss:  0.17256981\n",
      "Epoch:  2 loss:  0.35733056\n",
      "Epoch:  3 loss:  0.25746274\n",
      "Epoch:  4 loss:  0.32863757\n",
      "Epoch:  5 loss:  0.28951472\n",
      "Epoch:  6 loss:  0.47938642\n",
      "Epoch:  7 loss:  0.29474768\n",
      "Epoch:  8 loss:  0.24032155\n",
      "Epoch:  9 loss:  0.33586717\n",
      "Epoch:  10 loss:  0.27053174\n",
      "Epoch:  11 loss:  0.36156577\n",
      "Epoch:  12 loss:  0.2997264\n",
      "Epoch:  13 loss:  0.3220391\n",
      "Epoch:  14 loss:  0.26927155\n",
      "Epoch:  15 loss:  0.40839446\n",
      "Epoch:  16 loss:  0.1988592\n",
      "Epoch:  17 loss:  0.3865561\n",
      "Epoch:  18 loss:  0.27652323\n",
      "Epoch:  19 loss:  0.29151312\n",
      "Epoch:  20 loss:  0.23862463\n",
      "Optimization done\n"
     ]
    }
   ],
   "source": [
    "## Training\n",
    "sess = tf.Session()\n",
    "sess.run(init)\n",
    "\n",
    "for epoch in range(epochs):\n",
    "    avg_loss = 0.0\n",
    "    min_batch = int(mnist.train.num_examples/bs)\n",
    "    # Loop over all the batches\n",
    "    for i in range(min_batch):\n",
    "        batch_xs, batch_ys = mnist.train.next_batch(bs)\n",
    "\n",
    "        _, c = sess.run([optimizer, loss], feed_dict={x:batch_xs, y:batch_ys})\n",
    "\n",
    "        avg_loss = np.mean(c)\n",
    "\n",
    "    if(epoch+1)%display_step == 0:\n",
    "        print(\"Epoch: \", epoch+1, \"loss: \", avg_loss)\n",
    "print(\"Optimization done\")\n",
    "    \n",
    "   "
   ]
  },
  {
   "cell_type": "code",
   "execution_count": 33,
   "metadata": {},
   "outputs": [
    {
     "name": "stdout",
     "output_type": "stream",
     "text": [
      "Tensor(\"Equal_13:0\", shape=(?,), dtype=bool)\n"
     ]
    },
    {
     "data": {
      "text/plain": [
       "0.9217"
      ]
     },
     "execution_count": 33,
     "metadata": {},
     "output_type": "execute_result"
    }
   ],
   "source": [
    "# Test Model \n",
    "    \n",
    "# Creating another graph below\n",
    "correct_preds = tf.equal(tf.argmax(tf.nn.softmax(pred),1), y)\n",
    "print(correct_preds)\n",
    "accuracy = tf.reduce_mean(tf.cast(correct_preds, 'float'))\n",
    "\n",
    "sess.run(accuracy, feed_dict={x:mnist.test.images, y:mnist.test.labels})\n"
   ]
  },
  {
   "cell_type": "code",
   "execution_count": 25,
   "metadata": {},
   "outputs": [
    {
     "data": {
      "text/plain": [
       "((10000,), (10000, 784))"
      ]
     },
     "execution_count": 25,
     "metadata": {},
     "output_type": "execute_result"
    }
   ],
   "source": [
    "mnist.test.labels.shape, mnist.test.images.shape"
   ]
  },
  {
   "cell_type": "code",
   "execution_count": null,
   "metadata": {},
   "outputs": [],
   "source": []
  }
 ],
 "metadata": {
  "kernelspec": {
   "display_name": "Python 3",
   "language": "python",
   "name": "python3"
  },
  "language_info": {
   "codemirror_mode": {
    "name": "ipython",
    "version": 3
   },
   "file_extension": ".py",
   "mimetype": "text/x-python",
   "name": "python",
   "nbconvert_exporter": "python",
   "pygments_lexer": "ipython3",
   "version": "3.6.7"
  }
 },
 "nbformat": 4,
 "nbformat_minor": 2
}
